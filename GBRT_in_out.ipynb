{
 "cells": [
  {
   "cell_type": "markdown",
   "metadata": {},
   "source": [
    "# GBRT con entradas + salidas"
   ]
  },
  {
   "cell_type": "markdown",
   "metadata": {},
   "source": [
    "Ya se ha realizado anteriormente la predicción para valores utilizando solamente los conteos que corresponden a las entradas por estación. Para este experimento se tiene contemplado utilizar los conteos de las entradas + salidas de cada estación con la finalidad de que exista una diferencia mayor entre el rango de las estaciones al momento de ser ordenadas."
   ]
  },
  {
   "cell_type": "code",
   "execution_count": 1,
   "metadata": {
    "collapsed": true
   },
   "outputs": [],
   "source": [
    "import matplotlib.pyplot as plt\n",
    "import pandas as pd\n",
    "import numpy as np\n",
    "import seaborn as sns; sns.set()\n",
    "from sklearn import preprocessing\n",
    "\n",
    "%matplotlib inline"
   ]
  },
  {
   "cell_type": "code",
   "execution_count": 2,
   "metadata": {
    "collapsed": true
   },
   "outputs": [],
   "source": [
    "def load_daytrips():\n",
    "    path = r'D:\\ownCloud\\Documentos posgrado\\Posgrado 2do semestre\\Seminario investigacion\\Experimental Data\\Cd Mex\\Movilidad\\Hist Ecobici\\ecobici.csv'\n",
    "    trips = pd.read_csv(path,\n",
    "                    parse_dates=['date_removed', 'date_arrived'],\n",
    "                    infer_datetime_format=True,\n",
    "                    low_memory=False)\n",
    "    \n",
    "    trips = trips.loc[trips['action'] != 'C  ']\n",
    "\n",
    "    # Find the start date\n",
    "    ind = pd.DatetimeIndex(trips.date_arrived)\n",
    "    trips['date'] = ind.date.astype('datetime64')\n",
    "    trips['hour'] = ind.hour\n",
    "\n",
    "    # Count trips by date\n",
    "    by_date_out = trips.pivot_table('bike',aggfunc='count',\n",
    "                            index='date',\n",
    "                            columns='station_arrived', )\n",
    "    by_date_in = trips.pivot_table('bike',aggfunc='count',\n",
    "                            index='date',\n",
    "                            columns='station_removed', )\n",
    "    \n",
    "    by_date = by_date_in.add(by_date_out, fill_value=0)\n",
    "\n",
    "    # add a flag indicating weekend\n",
    "    by_date['weekend'] = (by_date.index.dayofweek >= 5)\n",
    "    \n",
    "    by_date_weekday = by_date[by_date['weekend'] == False]\n",
    "\n",
    "    mavg_wd = by_date_weekday.sum(axis=1).rolling(window=20,center=False).mean()\n",
    "    mstd_wd = by_date_weekday.sum(axis=1).rolling(window=20,center=False).std()\n",
    "\n",
    "    black_list = by_date_weekday.sum(axis=1)[by_date_weekday.sum(axis=1) <= mavg_wd-2*mstd_wd].index\n",
    "\n",
    "    by_date_weekend = by_date[by_date['weekend'] == True]\n",
    "\n",
    "    mavg_we = by_date_weekend.sum(axis=1).rolling(window=20,center=False).mean()\n",
    "    mstd_we = by_date_weekend.sum(axis=1).rolling(window=20,center=False).std()\n",
    "\n",
    "    black_list = black_list.union(by_date_weekend.sum(axis=1)[by_date_weekend.sum(axis=1) <= mavg_we-2*mstd_we].index)\n",
    "    \n",
    "    # remove those values on the blacklist\n",
    "    by_date = by_date.fillna(0)\n",
    "    by_date = by_date.loc[~by_date.index.isin(black_list)]\n",
    "    \n",
    "    return by_date"
   ]
  },
  {
   "cell_type": "code",
   "execution_count": 3,
   "metadata": {
    "collapsed": false
   },
   "outputs": [
    {
     "name": "stderr",
     "output_type": "stream",
     "text": [
      "C:\\Users\\ghost\\AppData\\Local\\Enthought\\Canopy\\User\\lib\\site-packages\\ipykernel\\__main__.py:7: FutureWarning: elementwise comparison failed; returning scalar instead, but in the future will perform elementwise comparison\n"
     ]
    }
   ],
   "source": [
    "by_date = load_daytrips()\n",
    "\n",
    "station_phase_path = r'C:\\Users\\ghost\\Google Drive\\JairCastruitaGastelum\\Progress Reports\\Clustering_ECOBICI\\DATA\\ecobiciFases.csv'\n",
    "station_phase = pd.read_csv(station_phase_path,header=None)\n",
    "station_phase.columns = ['station','phase']\n",
    "\n",
    "by_date.drop([col for col in list(by_date.columns.values) if col not in station_phase[station_phase['phase'] <= 1]['station'].values or col >= 260], \n",
    "        axis=1, inplace=True)\n",
    "\n",
    "# Keep only weekdays to make a more stable count signal\n",
    "by_date = by_date[by_date.index.dayofweek < 5]\n",
    "\n",
    "phase1 = by_date['2010-02-20':'2012-10-29'].copy()"
   ]
  },
  {
   "cell_type": "code",
   "execution_count": 4,
   "metadata": {
    "collapsed": false
   },
   "outputs": [
    {
     "data": {
      "text/html": [
       "<div>\n",
       "<table border=\"1\" class=\"dataframe\">\n",
       "  <thead>\n",
       "    <tr style=\"text-align: right;\">\n",
       "      <th></th>\n",
       "      <th>1</th>\n",
       "      <th>2</th>\n",
       "      <th>3</th>\n",
       "      <th>4</th>\n",
       "      <th>5</th>\n",
       "      <th>6</th>\n",
       "      <th>7</th>\n",
       "      <th>8</th>\n",
       "      <th>9</th>\n",
       "      <th>10</th>\n",
       "      <th>...</th>\n",
       "      <th>81</th>\n",
       "      <th>82</th>\n",
       "      <th>83</th>\n",
       "      <th>84</th>\n",
       "      <th>85</th>\n",
       "      <th>86</th>\n",
       "      <th>87</th>\n",
       "      <th>88</th>\n",
       "      <th>89</th>\n",
       "      <th>90</th>\n",
       "    </tr>\n",
       "    <tr>\n",
       "      <th>date</th>\n",
       "      <th></th>\n",
       "      <th></th>\n",
       "      <th></th>\n",
       "      <th></th>\n",
       "      <th></th>\n",
       "      <th></th>\n",
       "      <th></th>\n",
       "      <th></th>\n",
       "      <th></th>\n",
       "      <th></th>\n",
       "      <th></th>\n",
       "      <th></th>\n",
       "      <th></th>\n",
       "      <th></th>\n",
       "      <th></th>\n",
       "      <th></th>\n",
       "      <th></th>\n",
       "      <th></th>\n",
       "      <th></th>\n",
       "      <th></th>\n",
       "      <th></th>\n",
       "    </tr>\n",
       "  </thead>\n",
       "  <tbody>\n",
       "    <tr>\n",
       "      <th>2010-02-22</th>\n",
       "      <td>0.0</td>\n",
       "      <td>0.0</td>\n",
       "      <td>0.0</td>\n",
       "      <td>0.0</td>\n",
       "      <td>16.0</td>\n",
       "      <td>6.0</td>\n",
       "      <td>9.0</td>\n",
       "      <td>10.0</td>\n",
       "      <td>0.0</td>\n",
       "      <td>0.0</td>\n",
       "      <td>...</td>\n",
       "      <td>0.0</td>\n",
       "      <td>0.0</td>\n",
       "      <td>9.0</td>\n",
       "      <td>0.0</td>\n",
       "      <td>20.0</td>\n",
       "      <td>0.0</td>\n",
       "      <td>0.0</td>\n",
       "      <td>0.0</td>\n",
       "      <td>0.0</td>\n",
       "      <td>0.0</td>\n",
       "    </tr>\n",
       "    <tr>\n",
       "      <th>2010-02-23</th>\n",
       "      <td>0.0</td>\n",
       "      <td>0.0</td>\n",
       "      <td>0.0</td>\n",
       "      <td>0.0</td>\n",
       "      <td>15.0</td>\n",
       "      <td>1.0</td>\n",
       "      <td>2.0</td>\n",
       "      <td>7.0</td>\n",
       "      <td>0.0</td>\n",
       "      <td>0.0</td>\n",
       "      <td>...</td>\n",
       "      <td>0.0</td>\n",
       "      <td>0.0</td>\n",
       "      <td>5.0</td>\n",
       "      <td>6.0</td>\n",
       "      <td>24.0</td>\n",
       "      <td>0.0</td>\n",
       "      <td>0.0</td>\n",
       "      <td>0.0</td>\n",
       "      <td>0.0</td>\n",
       "      <td>0.0</td>\n",
       "    </tr>\n",
       "    <tr>\n",
       "      <th>2010-02-24</th>\n",
       "      <td>0.0</td>\n",
       "      <td>3.0</td>\n",
       "      <td>0.0</td>\n",
       "      <td>7.0</td>\n",
       "      <td>6.0</td>\n",
       "      <td>2.0</td>\n",
       "      <td>5.0</td>\n",
       "      <td>3.0</td>\n",
       "      <td>2.0</td>\n",
       "      <td>2.0</td>\n",
       "      <td>...</td>\n",
       "      <td>0.0</td>\n",
       "      <td>0.0</td>\n",
       "      <td>3.0</td>\n",
       "      <td>1.0</td>\n",
       "      <td>19.0</td>\n",
       "      <td>0.0</td>\n",
       "      <td>0.0</td>\n",
       "      <td>0.0</td>\n",
       "      <td>0.0</td>\n",
       "      <td>0.0</td>\n",
       "    </tr>\n",
       "    <tr>\n",
       "      <th>2010-02-25</th>\n",
       "      <td>0.0</td>\n",
       "      <td>6.0</td>\n",
       "      <td>0.0</td>\n",
       "      <td>3.0</td>\n",
       "      <td>5.0</td>\n",
       "      <td>3.0</td>\n",
       "      <td>2.0</td>\n",
       "      <td>2.0</td>\n",
       "      <td>2.0</td>\n",
       "      <td>0.0</td>\n",
       "      <td>...</td>\n",
       "      <td>0.0</td>\n",
       "      <td>0.0</td>\n",
       "      <td>1.0</td>\n",
       "      <td>2.0</td>\n",
       "      <td>15.0</td>\n",
       "      <td>0.0</td>\n",
       "      <td>0.0</td>\n",
       "      <td>0.0</td>\n",
       "      <td>0.0</td>\n",
       "      <td>0.0</td>\n",
       "    </tr>\n",
       "    <tr>\n",
       "      <th>2010-02-26</th>\n",
       "      <td>0.0</td>\n",
       "      <td>11.0</td>\n",
       "      <td>0.0</td>\n",
       "      <td>9.0</td>\n",
       "      <td>3.0</td>\n",
       "      <td>17.0</td>\n",
       "      <td>2.0</td>\n",
       "      <td>5.0</td>\n",
       "      <td>5.0</td>\n",
       "      <td>38.0</td>\n",
       "      <td>...</td>\n",
       "      <td>0.0</td>\n",
       "      <td>1.0</td>\n",
       "      <td>4.0</td>\n",
       "      <td>6.0</td>\n",
       "      <td>84.0</td>\n",
       "      <td>0.0</td>\n",
       "      <td>0.0</td>\n",
       "      <td>0.0</td>\n",
       "      <td>0.0</td>\n",
       "      <td>0.0</td>\n",
       "    </tr>\n",
       "  </tbody>\n",
       "</table>\n",
       "<p>5 rows × 90 columns</p>\n",
       "</div>"
      ],
      "text/plain": [
       "             1     2    3    4     5     6    7     8    9     10 ...    81  \\\n",
       "date                                                              ...         \n",
       "2010-02-22  0.0   0.0  0.0  0.0  16.0   6.0  9.0  10.0  0.0   0.0 ...   0.0   \n",
       "2010-02-23  0.0   0.0  0.0  0.0  15.0   1.0  2.0   7.0  0.0   0.0 ...   0.0   \n",
       "2010-02-24  0.0   3.0  0.0  7.0   6.0   2.0  5.0   3.0  2.0   2.0 ...   0.0   \n",
       "2010-02-25  0.0   6.0  0.0  3.0   5.0   3.0  2.0   2.0  2.0   0.0 ...   0.0   \n",
       "2010-02-26  0.0  11.0  0.0  9.0   3.0  17.0  2.0   5.0  5.0  38.0 ...   0.0   \n",
       "\n",
       "             82   83   84    85   86   87   88   89   90  \n",
       "date                                                      \n",
       "2010-02-22  0.0  9.0  0.0  20.0  0.0  0.0  0.0  0.0  0.0  \n",
       "2010-02-23  0.0  5.0  6.0  24.0  0.0  0.0  0.0  0.0  0.0  \n",
       "2010-02-24  0.0  3.0  1.0  19.0  0.0  0.0  0.0  0.0  0.0  \n",
       "2010-02-25  0.0  1.0  2.0  15.0  0.0  0.0  0.0  0.0  0.0  \n",
       "2010-02-26  1.0  4.0  6.0  84.0  0.0  0.0  0.0  0.0  0.0  \n",
       "\n",
       "[5 rows x 90 columns]"
      ]
     },
     "execution_count": 4,
     "metadata": {},
     "output_type": "execute_result"
    }
   ],
   "source": [
    "phase1.head()"
   ]
  },
  {
   "cell_type": "markdown",
   "metadata": {},
   "source": [
    "Se extraen los elementos de head, body y tail, propios de rank diversity:"
   ]
  },
  {
   "cell_type": "code",
   "execution_count": 5,
   "metadata": {
    "collapsed": true
   },
   "outputs": [],
   "source": [
    "data = dict([(r[0], list(phase1.columns[np.argsort(list(r)[1: ])[::-1]])) \\\n",
    "        for r in list(phase1.to_records())])\n",
    "    \n",
    "dr = pd.DataFrame.from_dict(data, orient='index', dtype=None)\n",
    "dr = dr.sort_index()\n",
    "\n",
    "head = np.unique(dr[[0]])\n",
    "\n",
    "tail = np.setdiff1d(dr[89].unique(), dr[0].unique())\n",
    "\n",
    "body = np.setdiff1d(dr[50].unique(), head)\n",
    "body = np.setdiff1d(body, tail)"
   ]
  },
  {
   "cell_type": "code",
   "execution_count": 6,
   "metadata": {
    "collapsed": false
   },
   "outputs": [
    {
     "name": "stdout",
     "output_type": "stream",
     "text": [
      "Head: [ 1 13 17 18 20 27 29 31 36 46 49 64 70 84 85] \n",
      "\n",
      "Body: [ 4  5  6  7 11 16 19 21 23 28 35 37 38 40 42 45 47 50 51 53 56 57 58 60 61\n",
      " 63 66 68 69 72 73 74 75 76 79 81] \n",
      "\n",
      "Tail: [ 2  3  8  9 10 12 14 15 22 24 25 26 30 32 33 34 39 41 43 44 48 52 54 55 59\n",
      " 62 65 67 71 77 78 80 82 86 87 88 89 90] \n",
      "\n"
     ]
    }
   ],
   "source": [
    "print 'Head:',head,'\\n'\n",
    "print 'Body:',body,'\\n'\n",
    "print 'Tail:',tail,'\\n'"
   ]
  },
  {
   "cell_type": "markdown",
   "metadata": {},
   "source": [
    "Tras haber obtenido los subconjuntos de rank diversity puede observarse que no hay un cambio radical entre las estaciones que ocupan las posiciones seleccionadas, por lo que podemos pensar que rank diversity para este caso no se vio afectado."
   ]
  },
  {
   "cell_type": "code",
   "execution_count": 7,
   "metadata": {
    "collapsed": false,
    "scrolled": true
   },
   "outputs": [],
   "source": [
    "phase1.columns.name = 'station'"
   ]
  },
  {
   "cell_type": "code",
   "execution_count": 8,
   "metadata": {
    "collapsed": false
   },
   "outputs": [],
   "source": [
    "phase_aux = phase1.transpose()\n",
    "phase_transformed = pd.melt(phase_aux.reset_index(), id_vars=[\"station\"], \n",
    "                  var_name=\"Date\", value_name=\"Value\").sort_values([\"station\",'Date'])\n",
    "phase_transformed = phase_transformed.set_index('Date')"
   ]
  },
  {
   "cell_type": "code",
   "execution_count": 9,
   "metadata": {
    "collapsed": false
   },
   "outputs": [],
   "source": [
    "phase_transformed['weekday'] = phase_transformed.index.dayofweek"
   ]
  },
  {
   "cell_type": "code",
   "execution_count": 10,
   "metadata": {
    "collapsed": false
   },
   "outputs": [],
   "source": [
    "phase_transformed['rolling'] = phase_transformed.groupby('station')['Value'].apply(lambda x: x.rolling(window=10,center=False).mean())"
   ]
  },
  {
   "cell_type": "code",
   "execution_count": 11,
   "metadata": {
    "collapsed": false
   },
   "outputs": [],
   "source": [
    "phase_transformed['shift'] = phase_transformed.groupby('station')['Value'].shift(periods=1)"
   ]
  },
  {
   "cell_type": "code",
   "execution_count": 12,
   "metadata": {
    "collapsed": true
   },
   "outputs": [],
   "source": [
    "phase_transformed = phase_transformed.dropna()"
   ]
  },
  {
   "cell_type": "code",
   "execution_count": 13,
   "metadata": {
    "collapsed": false
   },
   "outputs": [],
   "source": [
    "def makeData(data):\n",
    "    tdata = data.transpose()\n",
    "    tdata_row = pd.melt(tdata.reset_index(), id_vars=[\"station\"], \n",
    "                      var_name=\"Date\", value_name=\"Rank\")\n",
    "\n",
    "    tdata_row = tdata_row.sort_values([\"station\",'Rank'])\n",
    "    tdata_row = tdata_row.set_index('Date')\n",
    "\n",
    "    return tdata_row"
   ]
  },
  {
   "cell_type": "code",
   "execution_count": 14,
   "metadata": {
    "collapsed": true
   },
   "outputs": [],
   "source": [
    "train = phase_transformed[:'2012-09-29']\n",
    "test = phase_transformed['2012-09-29':]"
   ]
  },
  {
   "cell_type": "code",
   "execution_count": 15,
   "metadata": {
    "collapsed": true
   },
   "outputs": [],
   "source": [
    "rank1 = phase1.rank(axis='columns', ascending=False, method='first')"
   ]
  },
  {
   "cell_type": "code",
   "execution_count": 16,
   "metadata": {
    "collapsed": false
   },
   "outputs": [],
   "source": [
    "train_rank = rank1['2010-09-01':'2012-08-29']\n",
    "test_rank = rank1['2012-08-29':]"
   ]
  },
  {
   "cell_type": "code",
   "execution_count": 17,
   "metadata": {
    "collapsed": false
   },
   "outputs": [],
   "source": [
    "train_rank_whole, test_rank_whole = makeData(train_rank), makeData(test_rank)\n",
    "\n",
    "train = train.reset_index()\n",
    "train_rank_whole = train_rank_whole.reset_index()\n",
    "\n",
    "test = test.reset_index()\n",
    "test_rank_whole = test_rank_whole.reset_index()"
   ]
  },
  {
   "cell_type": "code",
   "execution_count": 18,
   "metadata": {
    "collapsed": false
   },
   "outputs": [],
   "source": [
    "train_set = pd.merge(train, train_rank_whole, left_on=['Date','station'], right_on=['Date','station'])\n",
    "X_train = train_set[['rolling','weekday']]\n",
    "y_train = train_set[['Value']]\n",
    "\n",
    "test_set = pd.merge(test, test_rank_whole, left_on=['Date','station'], right_on=['Date','station'])\n",
    "X_test = test_set[['rolling','weekday']]\n",
    "y_test = test_set[['Value']]"
   ]
  },
  {
   "cell_type": "markdown",
   "metadata": {},
   "source": [
    "Una matriz de correlación entre las variables construidas para alimentar al modelo nos hace ver que:\n",
    "\n",
    "- Las variables de la media móvil y el valor de la regresión tienen una correlación alta, lo cual es bueno para el modelo, así también como la actividad en el día anterior.\n",
    "- Las variables de la média móvil y la actividad del día anterior son colineares, lo cual nos dice que una sola variable puede explicar el fenómeno. Partiendo de lo anterior se ha eliminado la observación anterior de los predictores para el modelo."
   ]
  },
  {
   "cell_type": "code",
   "execution_count": 19,
   "metadata": {
    "collapsed": false,
    "scrolled": true
   },
   "outputs": [
    {
     "data": {
      "text/plain": [
       "<matplotlib.axes._subplots.AxesSubplot at 0xe16c358>"
      ]
     },
     "execution_count": 19,
     "metadata": {},
     "output_type": "execute_result"
    },
    {
     "data": {
      "image/png": "[encoded data removed]",
      "text/plain": [
       "<matplotlib.figure.Figure at 0xe1a0a90>"
      ]
     },
     "metadata": {},
     "output_type": "display_data"
    }
   ],
   "source": [
    "corrmat = train_set.corr()\n",
    "plt.title('Correlacion entre las variables')\n",
    "sns.heatmap(corrmat, vmax=.8, square=True, annot=True)"
   ]
  },
  {
   "cell_type": "code",
   "execution_count": 20,
   "metadata": {
    "collapsed": true
   },
   "outputs": [],
   "source": [
    "from sklearn.metrics import mean_squared_error\n",
    "from sklearn.ensemble import GradientBoostingRegressor"
   ]
  },
  {
   "cell_type": "code",
   "execution_count": 21,
   "metadata": {
    "collapsed": true
   },
   "outputs": [],
   "source": [
    "est = GradientBoostingRegressor(n_estimators=1000, learning_rate=0.01,\n",
    "         max_depth=2, random_state=0, loss='ls').fit(X_train.values, y_train.values.flatten())\n",
    "\n",
    "train_set['y_'] = est.predict(X_train.values)"
   ]
  },
  {
   "cell_type": "code",
   "execution_count": 22,
   "metadata": {
    "collapsed": true
   },
   "outputs": [],
   "source": [
    "train_set['y_rank'] = train_set.groupby('Date')['y_'].rank(ascending=False, method='first')"
   ]
  },
  {
   "cell_type": "code",
   "execution_count": 23,
   "metadata": {
    "collapsed": false
   },
   "outputs": [
    {
     "name": "stdout",
     "output_type": "stream",
     "text": [
      "train Head MSE: 76.8471879287\n",
      "train Body MSE: 82.9344993141\n",
      "train Tail MSE: 90.6414879792\n"
     ]
    }
   ],
   "source": [
    "Rt = train_set[train_set['station'].isin(head)]['Rank'].values.flatten()\n",
    "Rt_ = train_set[train_set['station'].isin(head)]['y_rank'].values.flatten()\n",
    "print 'train Head MSE:',mean_squared_error(Rt, Rt_)\n",
    "\n",
    "Rt = train_set[train_set['station'].isin(body)]['Rank'].values.flatten()\n",
    "Rt_ = train_set[train_set['station'].isin(body)]['y_rank'].values.flatten()\n",
    "print 'train Body MSE:',mean_squared_error(Rt, Rt_)\n",
    "\n",
    "Rt = train_set[train_set['station'].isin(tail)]['Rank'].values.flatten()\n",
    "Rt_ = train_set[train_set['station'].isin(tail)]['y_rank'].values.flatten()\n",
    "print 'train Tail MSE:',mean_squared_error(Rt, Rt_)"
   ]
  },
  {
   "cell_type": "markdown",
   "metadata": {},
   "source": [
    "Los errores obtenidos por el MSE muestran una diferencia entre ellos, también se puede observar un error ligeramente menor en aquellas estaciones que pertenecen al head."
   ]
  },
  {
   "cell_type": "markdown",
   "metadata": {},
   "source": [
    "Para aumentar la interpretabilidad en los errores, aplicó la raíz cuadrada para cada MSE obtenido, dejando solamente la media del error obtenida para cada distribución."
   ]
  },
  {
   "cell_type": "code",
   "execution_count": 24,
   "metadata": {
    "collapsed": true
   },
   "outputs": [],
   "source": [
    "def ErrorRank(Sample_error):\n",
    "    sns.set(style=\"ticks\", palette=\"muted\", color_codes=True)\n",
    "\n",
    "    # Plot the period with horizontal boxes\n",
    "    ax = sns.boxplot(x=\"Error\", y=\"Diversity rank\", data=Sample_error,\n",
    "                     whis=np.inf, color=\"c\")\n",
    "\n",
    "    # Add in points to show each observation\n",
    "    sns.stripplot(x=\"Error\", y=\"Diversity rank\", data=Sample_error,\n",
    "                  jitter=True, size=3, color=\".3\", linewidth=0)\n",
    "\n",
    "    ax.set_title('Box plot de errores con respecto a distribucion de rango')\n",
    "    sns.despine(trim=True)"
   ]
  },
  {
   "cell_type": "code",
   "execution_count": 25,
   "metadata": {
    "collapsed": true
   },
   "outputs": [],
   "source": [
    "def SampledError(set_):\n",
    "    Sample_error = pd.DataFrame({'Diversity rank' : [],'Error' : []})\n",
    "\n",
    "    for i in range(300):\n",
    "        sample_head = head[np.random.randint(len(head),size=10)]\n",
    "        sample_body = body[np.random.randint(len(body),size=10)]\n",
    "        sample_tail = tail[np.random.randint(len(tail),size=10)]\n",
    "\n",
    "        #head\n",
    "        Rt = set_[set_['station'].isin(sample_head)]['Rank'].values.flatten()\n",
    "        Rt_ = set_[set_['station'].isin(sample_head)]['y_rank'].values.flatten()\n",
    "        Sample_error = Sample_error.append(pd.DataFrame([['Head', mean_squared_error(Rt, Rt_)]], \n",
    "                                                        columns=['Diversity rank','Error']),ignore_index=True)\n",
    "        #body\n",
    "        Rt = set_[set_['station'].isin(sample_body)]['Rank'].values.flatten()\n",
    "        Rt_ = set_[set_['station'].isin(sample_body)]['y_rank'].values.flatten()\n",
    "        Sample_error = Sample_error.append(pd.DataFrame([['Body', mean_squared_error(Rt, Rt_)]], \n",
    "                                                        columns=['Diversity rank','Error']),ignore_index=True)\n",
    "        #tail\n",
    "        Rt = set_[set_['station'].isin(sample_tail)]['Rank'].values.flatten()\n",
    "        Rt_ = set_[set_['station'].isin(sample_tail)]['y_rank'].values.flatten()\n",
    "        Sample_error = Sample_error.append(pd.DataFrame([['Tail', mean_squared_error(Rt, Rt_)]], \n",
    "                                                        columns=['Diversity rank','Error']),ignore_index=True)\n",
    "        \n",
    "    return Sample_error"
   ]
  },
  {
   "cell_type": "code",
   "execution_count": 26,
   "metadata": {
    "collapsed": true
   },
   "outputs": [],
   "source": [
    "Sample_error = SampledError(train_set)\n",
    "Sample_error.Error = Sample_error.Error.apply(np.sqrt)"
   ]
  },
  {
   "cell_type": "code",
   "execution_count": 27,
   "metadata": {
    "collapsed": false
   },
   "outputs": [
    {
     "data": {
      "image/png": "[encoded data removed]",
      "text/plain": [
       "<matplotlib.figure.Figure at 0xbe9aa1d0>"
      ]
     },
     "metadata": {},
     "output_type": "display_data"
    }
   ],
   "source": [
    "ErrorRank(Sample_error)"
   ]
  },
  {
   "cell_type": "markdown",
   "metadata": {},
   "source": [
    "Se corre la prueba estadística ANOVA para encontrar si existen medias diferentes entre las variables categóricas de head, body y tail:"
   ]
  },
  {
   "cell_type": "code",
   "execution_count": 28,
   "metadata": {
    "collapsed": true
   },
   "outputs": [],
   "source": [
    "import scipy.stats as stats"
   ]
  },
  {
   "cell_type": "code",
   "execution_count": 30,
   "metadata": {
    "collapsed": false
   },
   "outputs": [],
   "source": [
    "groups = Sample_error.groupby(\"Diversity rank\").groups\n",
    "\n",
    "# Etract diversity rank groups\n",
    "NDCG_head = Sample_error.ix[groups[\"Head\"]].Error.values\n",
    "NDCG_body = Sample_error.ix[groups[\"Body\"]].Error.values\n",
    "NDCG_tail = Sample_error.ix[groups[\"Tail\"]].Error.values"
   ]
  },
  {
   "cell_type": "code",
   "execution_count": 31,
   "metadata": {
    "collapsed": false
   },
   "outputs": [
    {
     "data": {
      "text/plain": [
       "F_onewayResult(statistic=90.123965837974495, pvalue=2.1569158308207288e-36)"
      ]
     },
     "execution_count": 31,
     "metadata": {},
     "output_type": "execute_result"
    }
   ],
   "source": [
    "# Perform the ANOVA\n",
    "stats.f_oneway(NDCG_head, NDCG_body, NDCG_tail)"
   ]
  },
  {
   "cell_type": "markdown",
   "metadata": {},
   "source": [
    "Al ver que los resultados de la prueba ANOVA indican medias de error separadas ahora nos dedicamos a realizar la prueba de seguimiento conocida como Tukey test."
   ]
  },
  {
   "cell_type": "code",
   "execution_count": 38,
   "metadata": {
    "collapsed": false
   },
   "outputs": [
    {
     "data": {
      "text/html": [
       "<table class=\"simpletable\">\n",
       "<caption>Multiple Comparison of Means - Tukey HSD,FWER=0.05</caption>\n",
       "<tr>\n",
       "  <th>group1</th> <th>group2</th> <th>meandiff</th>  <th>lower</th>   <th>upper</th>  <th>reject</th>\n",
       "</tr>\n",
       "<tr>\n",
       "   <td>Body</td>   <td>Head</td>   <td>-0.3153</td> <td>-0.4413</td> <td>-0.1892</td>  <td>True</td> \n",
       "</tr>\n",
       "<tr>\n",
       "   <td>Body</td>   <td>Tail</td>   <td>0.4038</td>  <td>0.2777</td>  <td>0.5298</td>   <td>True</td> \n",
       "</tr>\n",
       "<tr>\n",
       "   <td>Head</td>   <td>Tail</td>   <td>0.7191</td>   <td>0.593</td>  <td>0.8451</td>   <td>True</td> \n",
       "</tr>\n",
       "</table>"
      ],
      "text/plain": [
       "<class 'statsmodels.iolib.table.SimpleTable'>"
      ]
     },
     "execution_count": 38,
     "metadata": {},
     "output_type": "execute_result"
    },
    {
     "data": {
      "image/png": "[encoded data removed]",
      "text/plain": [
       "<matplotlib.figure.Figure at 0x6d6d3e10>"
      ]
     },
     "metadata": {},
     "output_type": "display_data"
    }
   ],
   "source": [
    "from statsmodels.stats.multicomp import pairwise_tukeyhsd\n",
    "\n",
    "tukey = pairwise_tukeyhsd(endog=Sample_error.Error.values,     # Data\n",
    "                          groups=Sample_error['Diversity rank'].values,   # Groups\n",
    "                          alpha=0.05)          # Significance level\n",
    "\n",
    "tukey.plot_simultaneous()    # Plot group confidence intervals\n",
    "plt.vlines(x=8.82,ymin=-0.5,ymax=2.5, color=\"red\")\n",
    "\n",
    "tukey.summary()              # See test summary"
   ]
  },
  {
   "cell_type": "markdown",
   "metadata": {},
   "source": [
    "Efectivamente, El error es más bajo la categoría del head. El Tukey test también nos informa que la hipótesis nula: \"No existe diferencia entre las medias entre las diferentes categorias\" fue rechazada, demostrando que formar parte de las diferentes categorías incide directamente en la diferencia del error medio al momento de realizar el pronóstico para el ranking."
   ]
  },
  {
   "cell_type": "markdown",
   "metadata": {},
   "source": [
    "## Test"
   ]
  },
  {
   "cell_type": "markdown",
   "metadata": {},
   "source": [
    "Para el conjunto de prueba el error en los 3 subconjuntos bajó, también se logra ver que el MSE de la sección correspondiente al head sigue conservando un error menor con respecto a las demás"
   ]
  },
  {
   "cell_type": "code",
   "execution_count": 39,
   "metadata": {
    "collapsed": true
   },
   "outputs": [],
   "source": [
    "test_set['y_'] = est.predict(X_test.values)\n",
    "test_set['y_rank'] = test_set.groupby('Date')['y_'].rank(ascending=False, method='first')"
   ]
  },
  {
   "cell_type": "code",
   "execution_count": 40,
   "metadata": {
    "collapsed": false
   },
   "outputs": [
    {
     "name": "stdout",
     "output_type": "stream",
     "text": [
      "Head MSE test: 47.1174603175\n",
      "Body MSE test: 63.4457671958\n",
      "Tail MSE test: 70.492481203\n"
     ]
    }
   ],
   "source": [
    "Rt = test_set[test_set['station'].isin(head)]['Rank'].values.flatten()\n",
    "Rt_ = test_set[test_set['station'].isin(head)]['y_rank'].values.flatten()\n",
    "print 'Head MSE test:',mean_squared_error(Rt, Rt_)\n",
    "\n",
    "Rt = test_set[test_set['station'].isin(body)]['Rank'].values.flatten()\n",
    "Rt_ = test_set[test_set['station'].isin(body)]['y_rank'].values.flatten()\n",
    "print 'Body MSE test:',mean_squared_error(Rt, Rt_)\n",
    "\n",
    "Rt = test_set[test_set['station'].isin(tail)]['Rank'].values.flatten()\n",
    "Rt_ = test_set[test_set['station'].isin(tail)]['y_rank'].values.flatten()\n",
    "print 'Tail MSE test:',mean_squared_error(Rt, Rt_)"
   ]
  },
  {
   "cell_type": "markdown",
   "metadata": {},
   "source": [
    "La librería de GBRT cuenta con herramientas de recuperación de información que pueden ayudar a explicar qué tanta información aporta cada variable con la que entrenó el modelo."
   ]
  },
  {
   "cell_type": "code",
   "execution_count": 41,
   "metadata": {
    "collapsed": false
   },
   "outputs": [
    {
     "data": {
      "image/png": "[encoded data removed]",
      "text/plain": [
       "<matplotlib.figure.Figure at 0xa6c6f240>"
      ]
     },
     "metadata": {},
     "output_type": "display_data"
    }
   ],
   "source": [
    "# Plot feature importance\n",
    "feature_importance = est.feature_importances_\n",
    "\n",
    "# make importances relative to max importance\n",
    "feature_importance = 100.0 * (feature_importance / feature_importance.max())\n",
    "sorted_idx = np.argsort(feature_importance)\n",
    "pos = np.arange(sorted_idx.shape[0]) + .5\n",
    "plt.subplot(1, 2, 2)\n",
    "plt.barh(pos, feature_importance[sorted_idx], align='center')\n",
    "plt.yticks(pos, X_train.columns[sorted_idx])\n",
    "plt.xlabel('Relative Importance')\n",
    "plt.title('Variable Importance')\n",
    "plt.show()"
   ]
  },
  {
   "cell_type": "markdown",
   "metadata": {},
   "source": [
    "Para este conjunto se parecia que la media móvil explica casi en totalidad el fenómeno sobre el número de conteos que la estación tendrá durante el día."
   ]
  },
  {
   "cell_type": "code",
   "execution_count": 42,
   "metadata": {
    "collapsed": true
   },
   "outputs": [],
   "source": [
    "Sample_error = SampledError(test_set)\n",
    "Sample_error.Error = Sample_error.Error.apply(np.sqrt)"
   ]
  },
  {
   "cell_type": "code",
   "execution_count": 43,
   "metadata": {
    "collapsed": false
   },
   "outputs": [
    {
     "data": {
      "image/png": "[encoded data removed]",
      "text/plain": [
       "<matplotlib.figure.Figure at 0xb5b56128>"
      ]
     },
     "metadata": {},
     "output_type": "display_data"
    }
   ],
   "source": [
    "ErrorRank(Sample_error)"
   ]
  },
  {
   "cell_type": "code",
   "execution_count": 44,
   "metadata": {
    "collapsed": false
   },
   "outputs": [
    {
     "data": {
      "text/plain": [
       "F_onewayResult(statistic=90.123965837974495, pvalue=2.1569158308207288e-36)"
      ]
     },
     "execution_count": 44,
     "metadata": {},
     "output_type": "execute_result"
    }
   ],
   "source": [
    "# Perform the ANOVA\n",
    "stats.f_oneway(NDCG_head, NDCG_body, NDCG_tail)"
   ]
  },
  {
   "cell_type": "code",
   "execution_count": 47,
   "metadata": {
    "collapsed": false
   },
   "outputs": [
    {
     "data": {
      "text/html": [
       "<table class=\"simpletable\">\n",
       "<caption>Multiple Comparison of Means - Tukey HSD,FWER=0.05</caption>\n",
       "<tr>\n",
       "  <th>group1</th> <th>group2</th> <th>meandiff</th>  <th>lower</th>  <th>upper</th>  <th>reject</th>\n",
       "</tr>\n",
       "<tr>\n",
       "   <td>Body</td>   <td>Head</td>   <td>-1.1444</td>  <td>-1.36</td> <td>-0.9288</td>  <td>True</td> \n",
       "</tr>\n",
       "<tr>\n",
       "   <td>Body</td>   <td>Tail</td>   <td>0.3731</td>  <td>0.1575</td> <td>0.5887</td>   <td>True</td> \n",
       "</tr>\n",
       "<tr>\n",
       "   <td>Head</td>   <td>Tail</td>   <td>1.5175</td>  <td>1.3018</td> <td>1.7331</td>   <td>True</td> \n",
       "</tr>\n",
       "</table>"
      ],
      "text/plain": [
       "<class 'statsmodels.iolib.table.SimpleTable'>"
      ]
     },
     "execution_count": 47,
     "metadata": {},
     "output_type": "execute_result"
    },
    {
     "data": {
      "image/png": "[encoded data removed]",
      "text/plain": [
       "<matplotlib.figure.Figure at 0x9beb72e8>"
      ]
     },
     "metadata": {},
     "output_type": "display_data"
    }
   ],
   "source": [
    "from statsmodels.stats.multicomp import pairwise_tukeyhsd\n",
    "\n",
    "tukey = pairwise_tukeyhsd(endog=Sample_error.Error.values,     # Data\n",
    "                          groups=Sample_error['Diversity rank'].values,   # Groups\n",
    "                          alpha=0.05)          # Significance level\n",
    "\n",
    "tukey.plot_simultaneous()    # Plot group confidence intervals\n",
    "plt.vlines(x=6.89,ymin=-0.5,ymax=2.5, color=\"red\")\n",
    "\n",
    "tukey.summary()              # See test summary"
   ]
  },
  {
   "cell_type": "markdown",
   "metadata": {},
   "source": [
    "Conclusiones:\n",
    "\n",
    "- El experimento que se realizó aquí indica que efectivamente existe una diferencia en la calidad de predicción que las estaciones obtienen con el modelo seleccionado, aportando evidencia de que la hipótesis planteada.\n",
    "- Cabe notar que en este ejercicio solo hicimos uso de dos variables relevantes: La media móvil y el día de la semana. El desempeño del modelo podría mejorar haciendo uso de más variables que expliquen la dinámica empleada en las ciudades: temperatura, precipitación son algunos modelos que se ha observado una dramática mejora al momento de ser integrados en modelos para BSSs."
   ]
  },
  {
   "cell_type": "code",
   "execution_count": 1,
   "metadata": {
    "collapsed": false
   },
   "outputs": [
    {
     "data": {
      "text/html": [
       "<script>\n",
       "code_show=true; \n",
       "function code_toggle() {\n",
       " if (code_show){\n",
       " $('div.input').hide();\n",
       " } else {\n",
       " $('div.input').show();\n",
       " }\n",
       " code_show = !code_show\n",
       "} \n",
       "$( document ).ready(code_toggle);\n",
       "</script>\n",
       "<form action=\"javascript:code_toggle()\"><input type=\"submit\" value=\"Click here to toggle on/off the raw code.\"></form>"
      ],
      "text/plain": [
       "<IPython.core.display.HTML object>"
      ]
     },
     "execution_count": 1,
     "metadata": {},
     "output_type": "execute_result"
    }
   ],
   "source": [
    "from IPython.display import HTML\n",
    "#To hide code from the nbviewer render\n",
    "HTML('''<script>\n",
    "code_show=true; \n",
    "function code_toggle() {\n",
    " if (code_show){\n",
    " $('div.input').hide();\n",
    " } else {\n",
    " $('div.input').show();\n",
    " }\n",
    " code_show = !code_show\n",
    "} \n",
    "$( document ).ready(code_toggle);\n",
    "</script>\n",
    "<form action=\"javascript:code_toggle()\"><input type=\"submit\" value=\"Click here to toggle on/off the raw code.\"></form>''')"
   ]
  }
 ],
 "metadata": {
  "kernelspec": {
   "display_name": "Python 2",
   "language": "python",
   "name": "python2"
  },
  "language_info": {
   "codemirror_mode": {
    "name": "ipython",
    "version": 2
   },
   "file_extension": ".py",
   "mimetype": "text/x-python",
   "name": "python",
   "nbconvert_exporter": "python",
   "pygments_lexer": "ipython2",
   "version": "2.7.11"
  }
 },
 "nbformat": 4,
 "nbformat_minor": 0
}
