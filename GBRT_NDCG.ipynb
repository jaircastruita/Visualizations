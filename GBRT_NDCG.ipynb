{
 "cells": [
  {
   "cell_type": "markdown",
   "metadata": {},
   "source": [
    "# GBRT con evaluación NDCG "
   ]
  },
  {
   "cell_type": "code",
   "execution_count": 1,
   "metadata": {
    "collapsed": true
   },
   "outputs": [],
   "source": [
    "import matplotlib.pyplot as plt\n",
    "import pandas as pd\n",
    "import numpy as np\n",
    "import seaborn as sns; sns.set()\n",
    "from sklearn import preprocessing\n",
    "\n",
    "%matplotlib inline"
   ]
  },
  {
   "cell_type": "markdown",
   "metadata": {},
   "source": [
    "En los últimos experimentos se ha estado utilizando Mean Squared Error (MSE) para la medición del error de los rankeos pronosticados contra los observados. Para este experimento se ha implementado una medición de error para ranking más adecuada, llamada Normalized Discounted Cumulative Gain (NDCG), la cual es una medida muy popular para rankeo de páginas web."
   ]
  },
  {
   "cell_type": "code",
   "execution_count": 2,
   "metadata": {
    "collapsed": true
   },
   "outputs": [],
   "source": [
    "def load_daytrips():\n",
    "    path = r'D:\\ownCloud\\Documentos posgrado\\Posgrado 2do semestre\\Seminario investigacion\\Experimental Data\\Cd Mex\\Movilidad\\Hist Ecobici\\ecobici.csv'\n",
    "    trips = pd.read_csv(path,\n",
    "                    parse_dates=['date_removed', 'date_arrived'],\n",
    "                    infer_datetime_format=True,\n",
    "                    low_memory=False)\n",
    "    \n",
    "    trips = trips.loc[trips['action'] != 'C  ']\n",
    "\n",
    "    # Find the start date\n",
    "    ind = pd.DatetimeIndex(trips.date_arrived)\n",
    "    trips['date'] = ind.date.astype('datetime64')\n",
    "    trips['hour'] = ind.hour\n",
    "\n",
    "    # Count trips by date\n",
    "    by_date = trips.pivot_table('bike',aggfunc='count',\n",
    "                            index='date',\n",
    "                            columns='station_arrived', )\n",
    "\n",
    "    # add a flag indicating weekend\n",
    "    by_date['weekend'] = (by_date.index.dayofweek >= 5)\n",
    "    \n",
    "    by_date_weekday = by_date[by_date['weekend'] == False]\n",
    "\n",
    "    mavg_wd = by_date_weekday.sum(axis=1).rolling(window=20,center=False).mean()\n",
    "    mstd_wd = by_date_weekday.sum(axis=1).rolling(window=20,center=False).std()\n",
    "\n",
    "    black_list = by_date_weekday.sum(axis=1)[by_date_weekday.sum(axis=1) <= mavg_wd-2*mstd_wd].index\n",
    "\n",
    "    by_date_weekend = by_date[by_date['weekend'] == True]\n",
    "\n",
    "    mavg_we = by_date_weekend.sum(axis=1).rolling(window=20,center=False).mean()\n",
    "    mstd_we = by_date_weekend.sum(axis=1).rolling(window=20,center=False).std()\n",
    "\n",
    "    black_list = black_list.union(by_date_weekend.sum(axis=1)[by_date_weekend.sum(axis=1) <= mavg_we-2*mstd_we].index)\n",
    "    \n",
    "    # remove those values on the blacklist\n",
    "    by_date = by_date.fillna(0)\n",
    "    by_date = by_date.loc[~by_date.index.isin(black_list)]\n",
    "    \n",
    "    return by_date"
   ]
  },
  {
   "cell_type": "code",
   "execution_count": 3,
   "metadata": {
    "collapsed": false
   },
   "outputs": [
    {
     "name": "stderr",
     "output_type": "stream",
     "text": [
      "C:\\Users\\ghost\\AppData\\Local\\Enthought\\Canopy\\User\\lib\\site-packages\\ipykernel\\__main__.py:7: FutureWarning: elementwise comparison failed; returning scalar instead, but in the future will perform elementwise comparison\n"
     ]
    }
   ],
   "source": [
    "by_date = load_daytrips()\n",
    "\n",
    "station_phase_path = r'C:\\Users\\ghost\\Google Drive\\JairCastruitaGastelum\\Progress Reports\\Clustering_ECOBICI\\DATA\\ecobiciFases.csv'\n",
    "station_phase = pd.read_csv(station_phase_path,header=None)\n",
    "station_phase.columns = ['station','phase']\n",
    "\n",
    "by_date.drop([col for col in list(by_date.columns.values) if col not in station_phase[station_phase['phase'] <= 1]['station'].values or col >= 260], \n",
    "        axis=1, inplace=True)\n",
    "\n",
    "# Keep only weekdays to make a more stable count signal\n",
    "by_date = by_date[by_date.index.dayofweek < 5]\n",
    "\n",
    "phase1 = by_date['2010-02-20':'2012-10-29'].copy()"
   ]
  },
  {
   "cell_type": "markdown",
   "metadata": {},
   "source": [
    "Se obtienen las secciones para rank diversity"
   ]
  },
  {
   "cell_type": "code",
   "execution_count": 4,
   "metadata": {
    "collapsed": true
   },
   "outputs": [],
   "source": [
    "data = dict([(r[0], list(phase1.columns[np.argsort(list(r)[1: ])[::-1]])) \\\n",
    "        for r in list(phase1.to_records())])\n",
    "    \n",
    "dr = pd.DataFrame.from_dict(data, orient='index', dtype=None)\n",
    "dr = dr.sort_index()\n",
    "\n",
    "head = np.unique(dr[[0]])\n",
    "\n",
    "tail = np.setdiff1d(dr[89].unique(), dr[0].unique())\n",
    "\n",
    "body = np.setdiff1d(dr[50].unique(), head)\n",
    "body = np.setdiff1d(body, tail)"
   ]
  },
  {
   "cell_type": "code",
   "execution_count": 5,
   "metadata": {
    "collapsed": false
   },
   "outputs": [
    {
     "name": "stdout",
     "output_type": "stream",
     "text": [
      "Head: [ 1  5 13 17 19 20 24 27 29 31 36 61 64 70 84 85] \n",
      "\n",
      "Body: [ 4  6  7 11 16 18 21 23 28 35 37 38 45 49 51 53 58 60 63 66 68 69 71 72 73\n",
      " 75 76 78 79 83] \n",
      "\n",
      "Tail: [ 2  3  8  9 10 12 14 15 22 25 26 30 32 33 34 39 40 41 42 43 44 46 48 50 52\n",
      " 54 55 57 59 62 65 67 77 80 81 82 86 87 88 89 90] \n",
      "\n"
     ]
    }
   ],
   "source": [
    "print 'Head:',head,'\\n'\n",
    "print 'Body:',body,'\\n'\n",
    "print 'Tail:',tail,'\\n'"
   ]
  },
  {
   "cell_type": "code",
   "execution_count": 6,
   "metadata": {
    "collapsed": true
   },
   "outputs": [],
   "source": [
    "phase_aux = phase1.transpose()\n",
    "phase_transformed = pd.melt(phase_aux.reset_index(), id_vars=[\"station_arrived\"], \n",
    "                  var_name=\"Date\", value_name=\"Value\").sort_values([\"station_arrived\",'Date'])\n",
    "\n",
    "phase_transformed = phase_transformed.set_index('Date')\n",
    "phase_transformed['weekday'] = phase_transformed.index.dayofweek\n",
    "phase_transformed['rolling'] = phase_transformed.groupby('station_arrived')['Value'].apply(lambda x: x.rolling(window=10,\n",
    "                                                                                                               center=False).mean())"
   ]
  },
  {
   "cell_type": "code",
   "execution_count": 7,
   "metadata": {
    "collapsed": false
   },
   "outputs": [],
   "source": [
    "phase_transformed['shift'] = phase_transformed.groupby('station_arrived')['Value'].shift(periods=1)"
   ]
  },
  {
   "cell_type": "code",
   "execution_count": 8,
   "metadata": {
    "collapsed": true
   },
   "outputs": [],
   "source": [
    "phase_transformed = phase_transformed.dropna()"
   ]
  },
  {
   "cell_type": "code",
   "execution_count": 9,
   "metadata": {
    "collapsed": true
   },
   "outputs": [],
   "source": [
    "def makeData(data):\n",
    "    tdata = data.transpose()\n",
    "    tdata_row = pd.melt(tdata.reset_index(), id_vars=[\"station_arrived\"], \n",
    "                      var_name=\"Date\", value_name=\"Rank\")\n",
    "\n",
    "    tdata_row = tdata_row.sort_values([\"station_arrived\",'Rank'])\n",
    "    tdata_row = tdata_row.set_index('Date')\n",
    "\n",
    "    return tdata_row"
   ]
  },
  {
   "cell_type": "code",
   "execution_count": 10,
   "metadata": {
    "collapsed": true
   },
   "outputs": [],
   "source": [
    "train = phase_transformed[:'2012-09-29']\n",
    "test = phase_transformed['2012-09-29':]"
   ]
  },
  {
   "cell_type": "code",
   "execution_count": 11,
   "metadata": {
    "collapsed": true
   },
   "outputs": [],
   "source": [
    "rank1 = phase1.rank(axis='columns', ascending=True, method='first')"
   ]
  },
  {
   "cell_type": "code",
   "execution_count": 12,
   "metadata": {
    "collapsed": false
   },
   "outputs": [],
   "source": [
    "train_rank = rank1['2010-09-01':'2012-08-29']\n",
    "test_rank = rank1['2012-08-29':]"
   ]
  },
  {
   "cell_type": "code",
   "execution_count": 13,
   "metadata": {
    "collapsed": true
   },
   "outputs": [],
   "source": [
    "train_rank_whole, test_rank_whole = makeData(train_rank), makeData(test_rank)\n",
    "\n",
    "train = train.reset_index()\n",
    "train_rank_whole = train_rank_whole.reset_index()\n",
    "\n",
    "test = test.reset_index()\n",
    "test_rank_whole = test_rank_whole.reset_index()"
   ]
  },
  {
   "cell_type": "markdown",
   "metadata": {},
   "source": [
    "Se contruye el vector de características con el que se ajustará el modelo. Esta vez solo se ha optado por seleccionar dos características consideradas relevantes: día de la semana y media móvil. Se ha llegado a esta decisión por los resultados anteriormente obtenidos donde se apreciaba la alta correlación que existían entre las demás variables contruidas."
   ]
  },
  {
   "cell_type": "code",
   "execution_count": 14,
   "metadata": {
    "collapsed": true
   },
   "outputs": [],
   "source": [
    "train_set = pd.merge(train, train_rank_whole, left_on=['Date','station_arrived'], right_on=['Date','station_arrived'])\n",
    "X_train = train_set[['rolling','weekday']]\n",
    "y_train = train_set[['Value']]\n",
    "\n",
    "test_set = pd.merge(test, test_rank_whole, left_on=['Date','station_arrived'], right_on=['Date','station_arrived'])\n",
    "X_test = test_set[['rolling','weekday']]\n",
    "y_test = test_set[['Value']]"
   ]
  },
  {
   "cell_type": "code",
   "execution_count": 15,
   "metadata": {
    "collapsed": false
   },
   "outputs": [],
   "source": [
    "from sklearn.metrics import mean_squared_error\n",
    "from sklearn.ensemble import GradientBoostingRegressor"
   ]
  },
  {
   "cell_type": "code",
   "execution_count": 16,
   "metadata": {
    "collapsed": true
   },
   "outputs": [],
   "source": [
    "est = GradientBoostingRegressor(n_estimators=1000, learning_rate=0.01,\n",
    "         max_depth=2, random_state=0, loss='ls').fit(X_train.values, y_train.values.flatten())\n",
    "\n",
    "train_set['y_'] = est.predict(X_train.values)"
   ]
  },
  {
   "cell_type": "code",
   "execution_count": 17,
   "metadata": {
    "collapsed": true
   },
   "outputs": [],
   "source": [
    "train_set['y_rank'] = train_set.groupby('Date')['y_'].rank(ascending=True, method='first')"
   ]
  },
  {
   "cell_type": "markdown",
   "metadata": {},
   "source": [
    "Normalized Discounted Cumulative Gain es la medida más adecuada al momento de medir la importancia de los elementos que obtuvieron el mayor rango, luego así, los de mayor importancia y cuyo rango está limitado en la escala [0-1] donde valores más acercados a 1 son más cercanos a la ordenación de rangos ideal:\n",
    "\n",
    "http://www.stanford.edu/class/cs276/handouts/EvaluationNew-handout-6-per.pdf\n",
    "\n",
    "Para ajustar los rangos a esta medida se invirtió la etiqueta en los rangos, ahora se asigna 1 a la estación con menor actividad durante el día y $n$ a la estación con mayor actividad, siendo $n$ en este caso la $n$-ésima estación contemplada en la ordenación."
   ]
  },
  {
   "cell_type": "code",
   "execution_count": 18,
   "metadata": {
    "collapsed": true
   },
   "outputs": [],
   "source": [
    "def dcg_at_k(r, k, method=0):\n",
    "    r = np.asfarray(r)[:k]\n",
    "    if r.size:\n",
    "        if method == 0:\n",
    "            return r[0] + np.sum(r[1:] / np.log2(np.arange(2, r.size + 1)))\n",
    "        elif method == 1:\n",
    "            return np.sum(r / np.log2(np.arange(2, r.size + 2)))\n",
    "        else:\n",
    "            raise ValueError('method must be 0 or 1.')\n",
    "    return 0.\n",
    "\n",
    "def ndcg_at_k(r, k, method=0):\n",
    "    dcg_max = dcg_at_k(sorted(r, reverse=True), k, method)\n",
    "    if not dcg_max:\n",
    "        return 0.\n",
    "    return dcg_at_k(r, k, method) / dcg_max"
   ]
  },
  {
   "cell_type": "code",
   "execution_count": 19,
   "metadata": {
    "collapsed": true
   },
   "outputs": [],
   "source": [
    "def ErrorRank(Sample_error):\n",
    "    sns.set(style=\"ticks\", palette=\"muted\", color_codes=True)\n",
    "\n",
    "    # Plot the period with horizontal boxes\n",
    "    ax = sns.boxplot(x=\"NDCG\", y=\"Diversity rank\", data=Sample_error,\n",
    "                     whis=np.inf, color=\"c\")\n",
    "\n",
    "    # Add in points to show each observation\n",
    "    sns.stripplot(x=\"NDCG\", y=\"Diversity rank\", data=Sample_error,\n",
    "                  jitter=True, size=3, color=\".3\", linewidth=0)\n",
    "\n",
    "    ax.set_title('Box plot de errores con respecto a distribucion de rango')\n",
    "    sns.despine(trim=True)"
   ]
  },
  {
   "cell_type": "code",
   "execution_count": 20,
   "metadata": {
    "collapsed": false
   },
   "outputs": [],
   "source": [
    "def SampledError(set_):\n",
    "    Sample_error = pd.DataFrame({'Diversity rank' : [],'Error' : []})\n",
    "    \n",
    "    df = set_.groupby('Date').apply(lambda x: x.sort_values('Rank',ascending=False))\n",
    "    del df['Date']\n",
    "    df = df.reset_index()\n",
    "\n",
    "    for i in range(100):\n",
    "        sample_head = head[np.random.randint(len(head),size=10)]\n",
    "        sample_body = body[np.random.randint(len(body),size=10)]\n",
    "        sample_tail = tail[np.random.randint(len(tail),size=10)]\n",
    "        \n",
    "        sumHead = 0\n",
    "        sumBody = 0\n",
    "        sumTail = 0\n",
    "        \n",
    "        for d in df.Date.unique():\n",
    "            \n",
    "            #head\n",
    "            rankhead = df[(df.Date == d) & (df['station_arrived'].isin(sample_head))]\n",
    "            sumHead = sumHead + ndcg_at_k(rankhead['y_rank'].tolist(), len(rankhead['y_rank']))\n",
    "            \n",
    "\n",
    "            #body\n",
    "            rankbody = df[(df.Date == d) & (df['station_arrived'].isin(sample_body))]\n",
    "            sumBody = sumBody + ndcg_at_k(rankbody['y_rank'].tolist(), len(rankbody['y_rank']))\n",
    "            \n",
    "\n",
    "            #tail\n",
    "            ranktail = df[(df.Date == d) & (df['station_arrived'].isin(sample_tail))]\n",
    "            sumTail = sumTail + ndcg_at_k(ranktail['y_rank'].tolist(), len(ranktail['y_rank']))\n",
    "            \n",
    "        \n",
    "        Sample_error = Sample_error.append(pd.DataFrame([['Head', sumHead/len(df.Date.unique())]],\n",
    "                                                        columns=['Diversity rank','Error']),ignore_index=True)\n",
    "            \n",
    "        Sample_error = Sample_error.append(pd.DataFrame([['Body', sumBody/len(df.Date.unique())]], \n",
    "                                                        columns=['Diversity rank','Error']),ignore_index=True)\n",
    "            \n",
    "        Sample_error = Sample_error.append(pd.DataFrame([['Tail', sumTail/len(df.Date.unique())]], \n",
    "                                                        columns=['Diversity rank','Error']),ignore_index=True)\n",
    "        \n",
    "    return Sample_error"
   ]
  },
  {
   "cell_type": "markdown",
   "metadata": {},
   "source": [
    "## Train"
   ]
  },
  {
   "cell_type": "markdown",
   "metadata": {},
   "source": [
    "Se dejó un total de 490 días para el conjunto de entrenamiento y 21 para el de prueba: para cada día se realiza la regresión para cada estación y después son ordenadas de mayor a menor, una vez con un rango ordenado las estaciones son re-ordenadas respecto al rango real observado ese día aplicando NDCG sobre los conjuntos de head, body y tail por separado se obtienen 3 evaluaciones para cada uno de los conjuntos."
   ]
  },
  {
   "cell_type": "code",
   "execution_count": 21,
   "metadata": {
    "collapsed": false,
    "scrolled": true
   },
   "outputs": [],
   "source": [
    "df = train_set.groupby('Date').apply(lambda x: x.sort_values('Rank',ascending=False))\n",
    "del df['Date']\n",
    "df = df.reset_index()\n",
    "\n",
    "Sample_error = pd.DataFrame({'Diversity rank' : [],'NDCG' : []})\n",
    "\n",
    "for d in df.Date.unique():\n",
    "    rankhead = df[(df.Date == d) & (df['station_arrived'].isin(head))]\n",
    "    Sample_error = Sample_error.append(pd.DataFrame([['Head', ndcg_at_k(rankhead['y_rank'].tolist(), len(rankhead['y_rank']))]], \n",
    "                                                        columns=['Diversity rank','NDCG']),ignore_index=True)\n",
    "    rankbody = df[(df.Date == d) & (df['station_arrived'].isin(body))]\n",
    "    Sample_error = Sample_error.append(pd.DataFrame([['Body', ndcg_at_k(rankbody['y_rank'].tolist(), len(rankbody['y_rank']))]], \n",
    "                                                        columns=['Diversity rank','NDCG']),ignore_index=True)\n",
    "    ranktail = df[(df.Date == d) & (df['station_arrived'].isin(tail))]\n",
    "    Sample_error = Sample_error.append(pd.DataFrame([['Tail', ndcg_at_k(ranktail['y_rank'].tolist(), len(ranktail['y_rank']))]], \n",
    "                                                        columns=['Diversity rank','NDCG']),ignore_index=True)"
   ]
  },
  {
   "cell_type": "code",
   "execution_count": 22,
   "metadata": {
    "collapsed": false
   },
   "outputs": [
    {
     "data": {
      "image/png": "[encoded data removed]",
      "text/plain": [
       "<matplotlib.figure.Figure at 0x5cd3dcf8>"
      ]
     },
     "metadata": {},
     "output_type": "display_data"
    }
   ],
   "source": [
    "ErrorRank(Sample_error)"
   ]
  },
  {
   "cell_type": "markdown",
   "metadata": {
    "collapsed": false
   },
   "source": [
    "El gráfico anterior es un boxplot por categoría en relación a la evaluación obtenida con NDCG: aunque los valores están muy acercados aparentemente el uno del otro las medianas y los cuartiles parecen estar bien separados entre ellos."
   ]
  },
  {
   "cell_type": "code",
   "execution_count": 23,
   "metadata": {
    "collapsed": true
   },
   "outputs": [],
   "source": [
    "import scipy.stats as stats"
   ]
  },
  {
   "cell_type": "code",
   "execution_count": 24,
   "metadata": {
    "collapsed": false
   },
   "outputs": [],
   "source": [
    "groups = Sample_error.groupby(\"Diversity rank\").groups"
   ]
  },
  {
   "cell_type": "code",
   "execution_count": 25,
   "metadata": {
    "collapsed": false
   },
   "outputs": [],
   "source": [
    "# Etract diversity rank groups\n",
    "NDCG_head = Sample_error.ix[groups[\"Head\"]].NDCG.values\n",
    "NDCG_body = Sample_error.ix[groups[\"Body\"]].NDCG.values\n",
    "NDCG_tail = Sample_error.ix[groups[\"Tail\"]].NDCG.values"
   ]
  },
  {
   "cell_type": "markdown",
   "metadata": {},
   "source": [
    "Lo que se desea hacer es probar que los valores de error difieren basados en las variables categóricas de rank diversity, para eso tenemos que comparar las medias de cada grupo de variable. El análisis de varianza o ANOVA es una prueba de inferencia estadística que permite el comparar múltiples grupos al mismo tiempo.\n",
    "\n",
    "La prueba conocida como one-way ANOVA donde la media de algunas variables numéricas difieren sobre los niveles de una variable categórica. Esta prueba responde esencialmente la pregunta de: ¿Alguna de las medias en los grupos difiere de las demás? Para esta situación nos ayudará a responder si existe diferencia entre los errores obtenidos entre las diferentes variables categóricas entre el head, body y tail.\n",
    "\n",
    "Afortunadamente la librería scipy de python tiene una función para realizar la prueba one-way ANOVA. Se puede acceder a esta herramienta mediante scipy.stats.f_oneway()."
   ]
  },
  {
   "cell_type": "code",
   "execution_count": 26,
   "metadata": {
    "collapsed": false
   },
   "outputs": [
    {
     "data": {
      "text/plain": [
       "F_onewayResult(statistic=677.0704590399771, pvalue=1.3982591175248327e-208)"
      ]
     },
     "execution_count": 26,
     "metadata": {},
     "output_type": "execute_result"
    }
   ],
   "source": [
    "# Perform the ANOVA\n",
    "stats.f_oneway(NDCG_head, NDCG_body, NDCG_tail)"
   ]
  },
  {
   "cell_type": "markdown",
   "metadata": {},
   "source": [
    "El resultado de la prueba sugiere que los grupos no contienen las mismas medias de la muestra, dado que el p-value obtenido es significativo hasta en un 99% de un intervalo de confianza. Para revisar cuales son los grupos que obtuvieron un resultado positivo ANOVA se puede realizar una prueba de seguimiento."
   ]
  },
  {
   "cell_type": "markdown",
   "metadata": {},
   "source": [
    "Una prueba de seguimiento común es la prueba 'Tukey's test'. Mediante la librería statsmodels.stats.multicomp se puede realizar dicha prueba utilizando la función pairwise_tukeyhsd()."
   ]
  },
  {
   "cell_type": "code",
   "execution_count": 27,
   "metadata": {
    "collapsed": false
   },
   "outputs": [
    {
     "data": {
      "text/html": [
       "<table class=\"simpletable\">\n",
       "<caption>Multiple Comparison of Means - Tukey HSD,FWER=0.05</caption>\n",
       "<tr>\n",
       "  <th>group1</th> <th>group2</th> <th>meandiff</th>  <th>lower</th>   <th>upper</th>  <th>reject</th>\n",
       "</tr>\n",
       "<tr>\n",
       "   <td>Body</td>   <td>Head</td>   <td>0.0113</td>  <td>0.0095</td>   <td>0.013</td>   <td>True</td> \n",
       "</tr>\n",
       "<tr>\n",
       "   <td>Body</td>   <td>Tail</td>   <td>-0.0164</td> <td>-0.0182</td> <td>-0.0146</td>  <td>True</td> \n",
       "</tr>\n",
       "<tr>\n",
       "   <td>Head</td>   <td>Tail</td>   <td>-0.0277</td> <td>-0.0295</td> <td>-0.0259</td>  <td>True</td> \n",
       "</tr>\n",
       "</table>"
      ],
      "text/plain": [
       "<class 'statsmodels.iolib.table.SimpleTable'>"
      ]
     },
     "execution_count": 27,
     "metadata": {},
     "output_type": "execute_result"
    },
    {
     "data": {
      "image/png": "[encoded data removed]",
      "text/plain": [
       "<matplotlib.figure.Figure at 0xb9a8e630>"
      ]
     },
     "metadata": {},
     "output_type": "display_data"
    }
   ],
   "source": [
    "from statsmodels.stats.multicomp import pairwise_tukeyhsd\n",
    "\n",
    "tukey = pairwise_tukeyhsd(endog=Sample_error.NDCG.values,     # Data\n",
    "                          groups=Sample_error['Diversity rank'].values,   # Groups\n",
    "                          alpha=0.05)          # Significance level\n",
    "\n",
    "tukey.plot_simultaneous()    # Plot group confidence intervals\n",
    "plt.vlines(x=0.996,ymin=-0.5,ymax=2.5, color=\"red\")\n",
    "\n",
    "tukey.summary()              # See test summary"
   ]
  },
  {
   "cell_type": "markdown",
   "metadata": {},
   "source": [
    "La respuesta obtenida por el Tukey's test muestra una diferencia promedio, el intervalo de confianza también indica que la hipótesis nula debería ser rechazada para cada par de grupos dado un nivel de significancia. En este caso la prueba sugiere que deberíamos rechazar la hipótesis nula para los 3 pares. Esto sugiere que cada grupo es significativamente diferente de los demás. El 95% de intervalo de confianza refuerza los resultados visualmente: Ningún intervalo de confianza se empalma con ninguno otro intervalo de confianza de los demás."
   ]
  },
  {
   "cell_type": "markdown",
   "metadata": {},
   "source": [
    "## Test"
   ]
  },
  {
   "cell_type": "markdown",
   "metadata": {},
   "source": [
    "De la misma manera se hace todo lo anterior pero ahora sometiendo los 21 días de observación pertenecientes al conjunto de prueba."
   ]
  },
  {
   "cell_type": "code",
   "execution_count": 28,
   "metadata": {
    "collapsed": false
   },
   "outputs": [],
   "source": [
    "test_set['y_'] = est.predict(X_test.values)\n",
    "test_set['y_rank'] = test_set.groupby('Date')['y_'].rank(ascending=True, method='first')"
   ]
  },
  {
   "cell_type": "code",
   "execution_count": 29,
   "metadata": {
    "collapsed": false
   },
   "outputs": [],
   "source": [
    "df2 = test_set.groupby('Date').apply(lambda x: x.sort_values('Rank',ascending=False))\n",
    "del df2['Date']\n",
    "df2 = df2.reset_index()\n",
    "\n",
    "Sample_error = pd.DataFrame({'Diversity rank' : [],'NDCG' : []})\n",
    "\n",
    "for d in df2.Date.unique():\n",
    "    rankhead = df2[(df2.Date == d) & (df2['station_arrived'].isin(head))]\n",
    "    Sample_error = Sample_error.append(pd.DataFrame([['Head', ndcg_at_k(rankhead['y_rank'].tolist(), len(rankhead['y_rank']))]], \n",
    "                                                        columns=['Diversity rank','NDCG']),ignore_index=True)\n",
    "    rankbody = df2[(df2.Date == d) & (df2['station_arrived'].isin(body))]\n",
    "    Sample_error = Sample_error.append(pd.DataFrame([['Body', ndcg_at_k(rankbody['y_rank'].tolist(), len(rankbody['y_rank']))]], \n",
    "                                                        columns=['Diversity rank','NDCG']),ignore_index=True)\n",
    "    ranktail = df2[(df2.Date == d) & (df2['station_arrived'].isin(tail))]\n",
    "    Sample_error = Sample_error.append(pd.DataFrame([['Tail', ndcg_at_k(ranktail['y_rank'].tolist(), len(ranktail['y_rank']))]], \n",
    "                                                        columns=['Diversity rank','NDCG']),ignore_index=True)"
   ]
  },
  {
   "cell_type": "code",
   "execution_count": 30,
   "metadata": {
    "collapsed": false
   },
   "outputs": [
    {
     "data": {
      "image/png": "[encoded data removed]",
      "text/plain": [
       "<matplotlib.figure.Figure at 0xa0dbd748>"
      ]
     },
     "metadata": {},
     "output_type": "display_data"
    }
   ],
   "source": [
    "ErrorRank(Sample_error)"
   ]
  },
  {
   "cell_type": "code",
   "execution_count": 31,
   "metadata": {
    "collapsed": false
   },
   "outputs": [
    {
     "data": {
      "text/html": [
       "<table class=\"simpletable\">\n",
       "<caption>Multiple Comparison of Means - Tukey HSD,FWER=0.05</caption>\n",
       "<tr>\n",
       "  <th>group1</th> <th>group2</th> <th>meandiff</th>  <th>lower</th>   <th>upper</th>  <th>reject</th>\n",
       "</tr>\n",
       "<tr>\n",
       "   <td>Body</td>   <td>Head</td>   <td>0.0079</td>   <td>0.002</td>  <td>0.0138</td>   <td>True</td> \n",
       "</tr>\n",
       "<tr>\n",
       "   <td>Body</td>   <td>Tail</td>   <td>-0.0109</td> <td>-0.0168</td> <td>-0.005</td>   <td>True</td> \n",
       "</tr>\n",
       "<tr>\n",
       "   <td>Head</td>   <td>Tail</td>   <td>-0.0188</td> <td>-0.0247</td> <td>-0.0129</td>  <td>True</td> \n",
       "</tr>\n",
       "</table>"
      ],
      "text/plain": [
       "<class 'statsmodels.iolib.table.SimpleTable'>"
      ]
     },
     "execution_count": 31,
     "metadata": {},
     "output_type": "execute_result"
    },
    {
     "data": {
      "image/png": "[encoded data removed]",
      "text/plain": [
       "<matplotlib.figure.Figure at 0xb9a62e48>"
      ]
     },
     "metadata": {},
     "output_type": "display_data"
    }
   ],
   "source": [
    "groups = Sample_error.groupby(\"Diversity rank\").groups\n",
    "\n",
    "# Etract diversity rank groups\n",
    "NDCG_head = Sample_error.ix[groups[\"Head\"]].NDCG.values\n",
    "NDCG_body = Sample_error.ix[groups[\"Body\"]].NDCG.values\n",
    "NDCG_tail = Sample_error.ix[groups[\"Tail\"]].NDCG.values\n",
    "\n",
    "# Perform the ANOVA\n",
    "stats.f_oneway(head, body, tail)\n",
    "\n",
    "tukey = pairwise_tukeyhsd(endog=Sample_error.NDCG.values,     # Data\n",
    "                          groups=Sample_error['Diversity rank'].values,   # Groups\n",
    "                          alpha=0.05)          # Significance level\n",
    "\n",
    "tukey.plot_simultaneous()    # Plot group confidence intervals\n",
    "plt.vlines(x=0.9946,ymin=-0.5,ymax=2.5, color=\"red\")\n",
    "\n",
    "tukey.summary()              # See test summary"
   ]
  },
  {
   "cell_type": "markdown",
   "metadata": {
    "collapsed": true
   },
   "source": [
    "De igual forma la hipótesis nula es rechazada para las 3 categorías, donde las medias en conjunto con sus intervalos de confiansza se encuentran bien separados unos de otros. Es importante hacer notar que el grupo que obtuvo la mejor evaluación de ordenamiento (ranking) fue el subconjunto de head, demostrando que:\n",
    "- Existe una diferencia entre los errores obtenidos entre las diferentes clases de estaciones.\n",
    "- Existe una diferencia de resultados obtenidos para cada uno de los grupos evaluados, lo cual implica que los subconjuntos obtenidos por rank diversity se inclinan hacia una mejor evaluación\n",
    "- Los resultados obtenidos sugieren que las estaciones en el head se encuentran en rangos más estables comparadas con las demás estaciones."
   ]
  },
  {
   "cell_type": "code",
   "execution_count": 32,
   "metadata": {
    "collapsed": false
   },
   "outputs": [
    {
     "data": {
      "text/html": [
       "<script>\n",
       "code_show=true; \n",
       "function code_toggle() {\n",
       " if (code_show){\n",
       " $('div.input').hide();\n",
       " } else {\n",
       " $('div.input').show();\n",
       " }\n",
       " code_show = !code_show\n",
       "} \n",
       "$( document ).ready(code_toggle);\n",
       "</script>\n",
       "<form action=\"javascript:code_toggle()\"><input type=\"submit\" value=\"Click here to toggle on/off the raw code.\"></form>"
      ],
      "text/plain": [
       "<IPython.core.display.HTML object>"
      ]
     },
     "execution_count": 32,
     "metadata": {},
     "output_type": "execute_result"
    }
   ],
   "source": [
    "from IPython.display import HTML\n",
    "#To hide code from the nbviewer render\n",
    "HTML('''<script>\n",
    "code_show=true; \n",
    "function code_toggle() {\n",
    " if (code_show){\n",
    " $('div.input').hide();\n",
    " } else {\n",
    " $('div.input').show();\n",
    " }\n",
    " code_show = !code_show\n",
    "} \n",
    "$( document ).ready(code_toggle);\n",
    "</script>\n",
    "<form action=\"javascript:code_toggle()\"><input type=\"submit\" value=\"Click here to toggle on/off the raw code.\"></form>''')"
   ]
  }
 ],
 "metadata": {
  "kernelspec": {
   "display_name": "Python 2",
   "language": "python",
   "name": "python2"
  },
  "language_info": {
   "codemirror_mode": {
    "name": "ipython",
    "version": 2
   },
   "file_extension": ".py",
   "mimetype": "text/x-python",
   "name": "python",
   "nbconvert_exporter": "python",
   "pygments_lexer": "ipython2",
   "version": "2.7.11"
  }
 },
 "nbformat": 4,
 "nbformat_minor": 0
}
